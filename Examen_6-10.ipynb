{
 "cells": [
  {
   "cell_type": "code",
   "execution_count": 1,
   "metadata": {},
   "outputs": [],
   "source": [
    "import os\n",
    "import threading\n",
    "import requests"
   ]
  },
  {
   "cell_type": "markdown",
   "metadata": {},
   "source": [
    "8. Hacer el ataque con 1ra X10, 2da X30 , 3raX5, 4taX50.\n"
   ]
  },
  {
   "cell_type": "code",
   "execution_count": 2,
   "metadata": {},
   "outputs": [],
   "source": [
    "def ataque():\n",
    "    print(requests.get('https://www.kaggle.com/sukuzhanay'))\n",
    "    print(\"Lanzando un hilo con el identificador\", threading.current_thread().getName())"
   ]
  },
  {
   "cell_type": "code",
   "execution_count": 3,
   "metadata": {},
   "outputs": [
    {
     "name": "stdin",
     "output_type": "stream",
     "text": [
      "dígame el número de hilos 5\n"
     ]
    }
   ],
   "source": [
    "num_hilos=int(input(\"dígame el número de hilos\"))"
   ]
  },
  {
   "cell_type": "code",
   "execution_count": 4,
   "metadata": {},
   "outputs": [],
   "source": [
    "for i in range(num_hilos):\n",
    "    threading.Thread(target=ataque).start()"
   ]
  },
  {
   "cell_type": "markdown",
   "metadata": {},
   "source": [
    "#----------------------------------------------------"
   ]
  },
  {
   "cell_type": "code",
   "execution_count": 5,
   "metadata": {},
   "outputs": [],
   "source": [
    "def ataque():\n",
    "    print(requests.get('https://www.kaggle.com/sukuzhanay/discussion'))\n",
    "    print(\"Lanzando un hilo con el identificador\", threading.current_thread().getName())"
   ]
  },
  {
   "cell_type": "code",
   "execution_count": 6,
   "metadata": {},
   "outputs": [
    {
     "name": "stdout",
     "output_type": "stream",
     "text": [
      "<Response [200]>\n",
      "Lanzando un hilo con el identificador Thread-6\n",
      "<Response [200]>\n",
      "Lanzando un hilo con el identificador Thread-7\n",
      "<Response [200]>\n",
      "Lanzando un hilo con el identificador Thread-10\n",
      "<Response [200]>\n",
      "Lanzando un hilo con el identificador Thread-9\n",
      "<Response [200]>\n",
      "Lanzando un hilo con el identificador Thread-8\n"
     ]
    },
    {
     "name": "stdin",
     "output_type": "stream",
     "text": [
      "dígame el número de hilos 5\n"
     ]
    }
   ],
   "source": [
    "num_hilos2=int(input(\"dígame el número de hilos\"))"
   ]
  },
  {
   "cell_type": "code",
   "execution_count": 7,
   "metadata": {},
   "outputs": [],
   "source": [
    "for i in range(num_hilos2):\n",
    "    threading.Thread(target=ataque).start()"
   ]
  },
  {
   "cell_type": "markdown",
   "metadata": {},
   "source": [
    "#---------------------------------------------------"
   ]
  },
  {
   "cell_type": "code",
   "execution_count": 8,
   "metadata": {},
   "outputs": [],
   "source": [
    "def ataque():\n",
    "    print(requests.get('https://google.qwiklabs.com/public_profiles/c094dd66-f266-4f77-a808-a0601b187009'))\n",
    "    print(\"Lanzando un hilo con el identificador\", threading.current_thread().getName())"
   ]
  },
  {
   "cell_type": "code",
   "execution_count": 9,
   "metadata": {},
   "outputs": [
    {
     "name": "stdout",
     "output_type": "stream",
     "text": [
      "<Response [200]>\n",
      "Lanzando un hilo con el identificador Thread-12\n",
      "<Response [200]>\n",
      "Lanzando un hilo con el identificador Thread-13\n",
      "<Response [200]>\n",
      "Lanzando un hilo con el identificador Thread-14\n",
      "<Response [200]>\n",
      "Lanzando un hilo con el identificador Thread-15\n",
      "<Response [200]>\n",
      "Lanzando un hilo con el identificador Thread-11\n"
     ]
    },
    {
     "name": "stdin",
     "output_type": "stream",
     "text": [
      "dígame el número de hilos 5\n"
     ]
    }
   ],
   "source": [
    "num_hilos3=int(input(\"dígame el número de hilos\"))"
   ]
  },
  {
   "cell_type": "code",
   "execution_count": 10,
   "metadata": {},
   "outputs": [],
   "source": [
    "for i in range(num_hilos3):\n",
    "    threading.Thread(target=ataque).start()"
   ]
  },
  {
   "cell_type": "markdown",
   "metadata": {},
   "source": [
    "#---------------------------------------------------"
   ]
  },
  {
   "cell_type": "code",
   "execution_count": 11,
   "metadata": {},
   "outputs": [],
   "source": [
    "def ataque():\n",
    "    print(requests.get('https://developers.google.com/profile/u/113900657330137227361'))\n",
    "    print(\"Lanzando un hilo con el identificador\", threading.current_thread().getName())"
   ]
  },
  {
   "cell_type": "code",
   "execution_count": 12,
   "metadata": {},
   "outputs": [
    {
     "name": "stdout",
     "output_type": "stream",
     "text": [
      "<Response [200]>\n",
      "Lanzando un hilo con el identificador Thread-16\n",
      "<Response [200]>\n",
      "Lanzando un hilo con el identificador Thread-19\n",
      "<Response [200]>\n",
      "Lanzando un hilo con el identificador Thread-20\n",
      "<Response [200]>\n",
      "Lanzando un hilo con el identificador Thread-17\n",
      "<Response [200]>\n",
      "Lanzando un hilo con el identificador Thread-18\n"
     ]
    },
    {
     "name": "stdin",
     "output_type": "stream",
     "text": [
      "dígame el número de hilos 5\n"
     ]
    }
   ],
   "source": [
    "num_hilos4=int(input(\"dígame el número de hilos\"))"
   ]
  },
  {
   "cell_type": "code",
   "execution_count": 13,
   "metadata": {},
   "outputs": [
    {
     "name": "stdout",
     "output_type": "stream",
     "text": [
      "<Response [200]>\n",
      "Lanzando un hilo con el identificador Thread-22\n",
      "<Response [200]>\n",
      "Lanzando un hilo con el identificador Thread-24\n",
      "<Response [200]>\n",
      "Lanzando un hilo con el identificador Thread-21\n",
      "<Response [200]>\n",
      "Lanzando un hilo con el identificador Thread-23\n",
      "<Response [200]>\n",
      "Lanzando un hilo con el identificador Thread-25\n"
     ]
    }
   ],
   "source": [
    "for i in range(num_hilos4):\n",
    "    threading.Thread(target=ataque).start()"
   ]
  },
  {
   "cell_type": "markdown",
   "metadata": {},
   "source": [
    "Se tumban todas las que presenten el error 404 y el error 429 (que quiere decir que presenta muchas solicitudes, \"too many request\")"
   ]
  },
  {
   "cell_type": "code",
   "execution_count": null,
   "metadata": {},
   "outputs": [],
   "source": []
  }
 ],
 "metadata": {
  "kernelspec": {
   "display_name": "Python 3",
   "language": "python",
   "name": "python3"
  },
  "language_info": {
   "codemirror_mode": {
    "name": "ipython",
    "version": 3
   },
   "file_extension": ".py",
   "mimetype": "text/x-python",
   "name": "python",
   "nbconvert_exporter": "python",
   "pygments_lexer": "ipython3",
   "version": "3.8.5"
  }
 },
 "nbformat": 4,
 "nbformat_minor": 4
}
